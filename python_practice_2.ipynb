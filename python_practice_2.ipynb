{
  "cells": [
    {
      "cell_type": "markdown",
      "metadata": {
        "id": "p9wwt0LZzNvn"
      },
      "source": [
        "# I. Змінні та памʼять."
      ]
    },
    {
      "cell_type": "markdown",
      "metadata": {
        "id": "HTJrrm95xSV9"
      },
      "source": [
        "1. Створити змінні, що посилаються на два цілих числа, що однакові за значенням, де значення належить проміжку від -5 до 256. Перевірте, чи будуть ці змінні рівні тільки за значенням або ж ще будуть посилатися на один і той самий обʼєкт в памʼяті? Наведіть код та дайте текстову відповідь нижче."
      ]
    },
    {
      "cell_type": "code",
      "execution_count": null,
      "metadata": {
        "id": "TATni2vzayjG"
      },
      "outputs": [],
      "source": [
        "for i in range(-6, 256):\n",
        "    a: int = i+1\n",
        "    b: int = i+1\n",
        "    if a != b:\n",
        "        print(\"A and B have different values\")\n",
        "    if a is not b:\n",
        "        print(\"А and В refer to different objects\")"
      ]
    },
    {
      "cell_type": "markdown",
      "metadata": {
        "id": "zfRG_o3WbRdg"
      },
      "source": [
        "In Python, as in Java, but for the range (-128,127], for numbers from -5 to 256, interning is used, which means that for numbers in this range, the same object in memory is used. Therefore, if we create two variables that refer to the same number in this range, they will refer to the same object in memory."
      ]
    },
    {
      "cell_type": "markdown",
      "metadata": {
        "id": "ISORzt6M3vAt"
      },
      "source": [
        "2. За допомогою якої функції можна перевірити належність змінної до вказаного типу даних (напр. чи змінна True посилається на значення булевого та цілочисленого типу)?"
      ]
    },
    {
      "cell_type": "code",
      "execution_count": 16,
      "metadata": {
        "id": "9vL9CFaMbfyo"
      },
      "outputs": [
        {
          "data": {
            "text/plain": [
              "True"
            ]
          },
          "execution_count": 16,
          "metadata": {},
          "output_type": "execute_result"
        }
      ],
      "source": [
        "isinstance(True, bool)"
      ]
    },
    {
      "cell_type": "markdown",
      "metadata": {
        "id": "tRxugKAxwYLw"
      },
      "source": [
        "# II. Цілі числа та числа з рухомою комою"
      ]
    },
    {
      "cell_type": "markdown",
      "metadata": {
        "id": "NLHkgd5Gybc8"
      },
      "source": [
        "3. Створити дві змінні, що посилаються на будь-які ціле число та число з рухомою комою та продемонструвати такі арифметичні операції: додавання, віднімання, ділення, множення, ділення без залишку, ділення по модулю, приведення до ступеню. Всі результати операцій вивести на екран."
      ]
    },
    {
      "cell_type": "code",
      "execution_count": 1,
      "metadata": {
        "id": "nb8u_3pjb2cA"
      },
      "outputs": [
        {
          "name": "stdout",
          "output_type": "stream",
          "text": [
            "A: 50.5 , B: 2\n",
            "Addition 50.5 + 2: 52.5 \n",
            "Substraction 50.5 - 2: 48.5 \n",
            "Division 50.5 / 2: 25.25 \n",
            "Multiplication 50.5 * 2: 101.0 \n",
            "Integer division: 25.0 \n",
            "Modulus division 50.5 % 2: 0.5 \n",
            "Exponentiation 50.5^2: 2550.25\n"
          ]
        }
      ],
      "source": [
        "a: float = 50.5\n",
        "b: int = 2\n",
        "addition = a + b\n",
        "subtraction = a - b\n",
        "division = a / b\n",
        "multiplication = a * b\n",
        "division_int = a // b\n",
        "modulus = a % b\n",
        "power = a ** b\n",
        "print(\"A:\", a, \", B:\", b)\n",
        "print(f\"Addition {a} + {b}:\", addition,f\"\\nSubstraction {a} - {b}:\", subtraction, f\"\\nDivision {a} / {b}:\",division, \n",
        "\t  f\"\\nMultiplication {a} * {b}:\",multiplication, f\"\\nInteger division:\",division_int, \n",
        "\t  f\"\\nModulus division {a} % {b}:\",modulus, f\"\\nExponentiation {a}^{b}:\", power)"
      ]
    },
    {
      "cell_type": "markdown",
      "metadata": {
        "id": "1kBClKgPzZnC"
      },
      "source": [
        "4. Використовуючи змінні з вправи 3, продемонструйте механізм явного перетворення типів, де числа з рухомою комою перетворюються на цілі числа. Також визначте змінну, що посилається на значення булевого типу і спробуйте явно привести її до цілого числа."
      ]
    },
    {
      "cell_type": "code",
      "execution_count": 2,
      "metadata": {
        "id": "TbqJbkeUcKsD"
      },
      "outputs": [
        {
          "name": "stdout",
          "output_type": "stream",
          "text": [
            "After converting float 50.5 to int we get 50\n",
            "After converting float 50.5 to bool we get True, аnd after another conversion to int we get 1\n"
          ]
        }
      ],
      "source": [
        "c: int = int(a)\n",
        "print(f\"After converting float {a} to int we get {c}\")\n",
        "d: bool = bool(a)\n",
        "print(f\"After converting float {a} to bool we get {d}, аnd after another conversion to int we get {int(d)}\")"
      ]
    },
    {
      "cell_type": "markdown",
      "metadata": {
        "id": "EVJ7AflwxrZi"
      },
      "source": [
        "# IІІ. Рядки (String)."
      ]
    },
    {
      "cell_type": "markdown",
      "metadata": {
        "id": "_s5ECzz9zE61"
      },
      "source": [
        "5. Створити пустий рядок двома різними способами."
      ]
    },
    {
      "cell_type": "code",
      "execution_count": 9,
      "metadata": {
        "id": "fkZJHu9Scvc-"
      },
      "outputs": [],
      "source": [
        "# empty_string = ''\n",
        "# empty_string = \"\"\n",
        "# empty_string = \"\"\"\"\"\"\n",
        "# empty_string = \"\" + \"\"\n",
        "# empty_string = \"\" * 10\n",
        "# empty_string = \"{}\".format(\"\")\n",
        "empty_string = \"\".join([])\n",
        "empty_string = str()"
      ]
    },
    {
      "cell_type": "markdown",
      "metadata": {
        "id": "4Bdn9J3MzLf_"
      },
      "source": [
        "6. Створити рядок з апострофом. Зробити його сирим. Вивести обидва рядка на екран."
      ]
    },
    {
      "cell_type": "code",
      "execution_count": 10,
      "metadata": {
        "id": "ivji_hsmc0GH"
      },
      "outputs": [
        {
          "name": "stdout",
          "output_type": "stream",
          "text": [
            "Line with apostrophe: АТБ чом' не турбує?\n",
            "Empty line: \n"
          ]
        }
      ],
      "source": [
        "line_with_ap = r\"АТБ чом' не турбує?\"\n",
        "print(\"Line with apostrophe:\", line_with_ap)\n",
        "print(\"Empty line:\", empty_string)"
      ]
    },
    {
      "cell_type": "markdown",
      "metadata": {
        "id": "bg_d8wM4z8dS"
      },
      "source": [
        "7. Створити змінну, що буде посилатися на Ваше прізвище латинкою. Створити форматований рядок, який буде мати вигляд \"My surname is ______\", де на місці нижніх підкреслень буде Ваше прізвище зі змінної."
      ]
    },
    {
      "cell_type": "code",
      "execution_count": 70,
      "metadata": {
        "id": "kuxFgpWndACq"
      },
      "outputs": [
        {
          "data": {
            "text/plain": [
              "'My surname is Zolotaryov'"
            ]
          },
          "execution_count": 70,
          "metadata": {},
          "output_type": "execute_result"
        }
      ],
      "source": [
        "surname: str = \"Zolotaryov\"\n",
        "auxiliary: str = f\"My surname is {surname}\"\n",
        "auxiliary"
      ]
    },
    {
      "cell_type": "markdown",
      "metadata": {
        "id": "1Nc6RqvQ0hxU"
      },
      "source": [
        "8. Маючи рядок \"My dog is crazy.\" перетворити його на список [\"my\", \"dog\", \"is\", \"crazy\"]"
      ]
    },
    {
      "cell_type": "code",
      "execution_count": 94,
      "metadata": {
        "id": "w1Ya4RqedUhw"
      },
      "outputs": [
        {
          "data": {
            "text/plain": [
              "['my', 'dog', 'is', 'crazy']"
            ]
          },
          "execution_count": 94,
          "metadata": {},
          "output_type": "execute_result"
        }
      ],
      "source": [
        "sentence: str = \"My dog is crazy.\"\n",
        "new_list: list = sentence.lower().split(' ')\n",
        "new_list[-1] = new_list[-1][:-1]\n",
        "new_list"
      ]
    },
    {
      "cell_type": "markdown",
      "metadata": {
        "id": "GYVqN9uP1D4n"
      },
      "source": [
        "# IV. Робота зі списками."
      ]
    },
    {
      "cell_type": "markdown",
      "metadata": {
        "id": "7-DeDunw2sO-"
      },
      "source": [
        "9. Створити список двома різними за синтаксисом способами. За допомогою вбудованої функції обчисліть довжину одного з них."
      ]
    },
    {
      "cell_type": "code",
      "execution_count": 103,
      "metadata": {
        "id": "zxg06Uuxdyoh"
      },
      "outputs": [
        {
          "data": {
            "text/plain": [
              "10"
            ]
          },
          "execution_count": 103,
          "metadata": {},
          "output_type": "execute_result"
        }
      ],
      "source": [
        "hello: str = \"Hello world!\"\n",
        "list_from_string: list = hello.split()\n",
        "number_list: list = [*range(1,11)]\n",
        "len(number_list)"
      ]
    },
    {
      "cell_type": "markdown",
      "metadata": {
        "id": "8vmGUTjL22gI"
      },
      "source": [
        "10. Створіть два списка та за допомогою спеціального методу додайте другий з них в якості останнього елемента першого."
      ]
    },
    {
      "cell_type": "code",
      "execution_count": 105,
      "metadata": {
        "id": "uHtjWYw7d7hm"
      },
      "outputs": [
        {
          "data": {
            "text/plain": [
              "[1, 2, 3, [4, 5, 6]]"
            ]
          },
          "execution_count": 105,
          "metadata": {},
          "output_type": "execute_result"
        }
      ],
      "source": [
        "list1: list = [1, 2, 3]\n",
        "list2: list = [4, 5, 6]\n",
        "\n",
        "list1.append(list2)\n",
        "list1"
      ]
    },
    {
      "cell_type": "markdown",
      "metadata": {
        "id": "JC3BkD-67_--"
      },
      "source": [
        "11. Створіть список, де елементами цього списку також є списки. Отримай перший елемент з останнього рядка та виведи значення на екран."
      ]
    },
    {
      "cell_type": "code",
      "execution_count": 112,
      "metadata": {
        "id": "Kz2jZHsGeLlz"
      },
      "outputs": [
        {
          "name": "stdout",
          "output_type": "stream",
          "text": [
            "5\n"
          ]
        }
      ],
      "source": [
        "list_of_lists = [[i, i+1] for i in range(1, 6, 2)] #1 (+2) 3 (+2) 5 end\n",
        "#list_of_lists = [[1, 2], [3, 4], [5, 6]]\n",
        "print(list_of_lists[-1][0])"
      ]
    },
    {
      "cell_type": "markdown",
      "metadata": {
        "id": "JA47PKTv8zFK"
      },
      "source": [
        "12. Створіть список з десяти елементів різного типу. Отримайте всі елементи, окрім двох перших та двох останніх та збережіть їх в новій змінній."
      ]
    },
    {
      "cell_type": "code",
      "execution_count": 8,
      "metadata": {
        "id": "_rHdUR-ueP4-"
      },
      "outputs": [
        {
          "name": "stdout",
          "output_type": "stream",
          "text": [
            "List without two first and second last elements: [3.14, True, None, [1, 2, 3], {'a': 1}, (4, 5)]\n"
          ]
        }
      ],
      "source": [
        "unique_list = [42, 'hello', 3.14, True, None, [1, 2, 3], {'a': 1}, (4, 5), {9, 8}, lambda x: x * 2]\n",
        "#                 A int,     str,float, bool, None,      list,     dict,  tuple,    set, lambda function\n",
        "\n",
        "new_list: list = unique_list[2:-2]\n",
        "print(\"List without two first and second last elements:\", new_list)"
      ]
    },
    {
      "cell_type": "markdown",
      "metadata": {
        "id": "pCjR1dJb1Qbi"
      },
      "source": [
        "# V. Робота з кортежами."
      ]
    },
    {
      "cell_type": "markdown",
      "metadata": {
        "id": "fAZCxAX06R_k"
      },
      "source": [
        "14. Створити кортеж з один елементом."
      ]
    },
    {
      "cell_type": "code",
      "execution_count": 118,
      "metadata": {
        "id": "H7d82WkQev3e"
      },
      "outputs": [],
      "source": [
        "my_tuple = tuple([1])"
      ]
    },
    {
      "cell_type": "markdown",
      "metadata": {
        "id": "8LCtYcmI6w1M"
      },
      "source": [
        "15. Порівняйте список та кортеж. Назвіть схожості та відмінності, випадки використання."
      ]
    },
    {
      "cell_type": "markdown",
      "metadata": {
        "id": "fUsN1Hnue0C6"
      },
      "source": [
        "The similarities between lists and tuples lie in the fact that both are ordered collections of elements that can be accessed using indices. Indexing in both cases starts from 0, and negative indices can be used to access elements from the end of the collection. Additionally, both types support slicing operations, allowing subsets of elements to be obtained from the collection. Both tuples and lists can contain nested data structures, such as other tuples or lists, making them versatile for representing complex data structures.\n",
        "\n",
        "The main difference between them is their mutability. Lists are mutable, and in contrast, tuples are immutable, and their elements cannot be changed after creation. This property makes tuples useful where it is necessary to ensure that data does not change, such as when using tuples as keys in dictionaries or when storing constant sets of values.\n",
        "\n",
        "In cases where speed and efficiency matter, tuples are generally more resource-efficient due to their lower memory usage. Tuples can also be created faster than lists, making them attractive for scenarios with large amounts of static data. Moreover, as far as I know, Python itself sometimes speeds up programs by replacing lists with tuples.\n",
        "\n",
        "Lists are used when a collection of data that can be dynamically modified is needed. For example, lists are suitable for storing shopping lists, dynamic arrays of data, or search results. They are very similar to Vectors in C++ or Collections in Java.\n",
        "\n",
        "Tuples are used when a collection of data that does not change is needed, such as fixed sets of values, configuration data, or coordinate tuples. They have more similarities with arrays than lists."
      ]
    },
    {
      "cell_type": "markdown",
      "metadata": {
        "id": "m0xrwFijAmDD"
      },
      "source": [
        "16. Створіть кортеж з 11ти елементів чисел з рухомою комою та отримайте кожен парний за індексом елемент в зворотньому порядку. Наприклад, маючи (1.2, 2.3, 3.3, 4.3, 5.3, 6.3, 7.3, 8.3, 9.3, 0.3), отримати (0.3, 8.3, 6.3, 4.3, 2.3). Результат збережіть в нову змінну та виведіть на екран."
      ]
    },
    {
      "cell_type": "code",
      "execution_count": 6,
      "metadata": {
        "id": "p-5DAH6XfAGA"
      },
      "outputs": [
        {
          "name": "stdout",
          "output_type": "stream",
          "text": [
            "Random tuple: (14.1, 9.0, 11.9, 13.5, 14.9, 4.4, 1.7, 6.6, 0.7, 14.0, 10.7)\n",
            "Every second element from the end: (10.7, 0.7, 1.7, 14.9, 11.9, 14.1)\n"
          ]
        }
      ],
      "source": [
        "import random\n",
        "\n",
        "random_tuple: tuple = tuple(round(random.uniform(0, 15), 1) for ФІ in range(11))\n",
        "print(\"Random tuple:\", random_tuple)\n",
        "every_second: tuple = random_tuple[::-2]\n",
        "print(\"Every second element from the end:\", every_second)"
      ]
    },
    {
      "cell_type": "markdown",
      "metadata": {
        "id": "rW_I9dt3x6cW"
      },
      "source": [
        "# VI. Множини (Set)."
      ]
    },
    {
      "cell_type": "markdown",
      "metadata": {
        "id": "zNjRLHLw1Bgg"
      },
      "source": [
        "17. Створити множину без елементів. Після цого за допомогою методу додайте кілька різних елементів до множини. Чи множини є змінним типом даних?"
      ]
    },
    {
      "cell_type": "code",
      "execution_count": 10,
      "metadata": {
        "id": "KOv7zc2Kfo4N"
      },
      "outputs": [],
      "source": [
        "my_set = set()\n",
        "\n",
        "my_set.add(1)\n",
        "my_set.add(2)\n",
        "my_set.add('hello')"
      ]
    },
    {
      "cell_type": "markdown",
      "metadata": {
        "id": "vxS6dVYiftZQ"
      },
      "source": [
        "Yes, sets are a mutable data type in Python."
      ]
    },
    {
      "cell_type": "markdown",
      "metadata": {
        "id": "gHpT0Zw_1HEF"
      },
      "source": [
        "18. Створити множину, маючи список my_list = [1, 1, 2, 67, 67, 8, 9]. Пояснити, чому \"зникли\" деякі елементи."
      ]
    },
    {
      "cell_type": "code",
      "execution_count": 14,
      "metadata": {
        "id": "qCN4uvJ_fxmu"
      },
      "outputs": [
        {
          "data": {
            "text/plain": [
              "{1, 2, 8, 9, 67}"
            ]
          },
          "execution_count": 14,
          "metadata": {},
          "output_type": "execute_result"
        }
      ],
      "source": [
        "my_list = [1, 1, 2, 67, 67, 8, 9]\n",
        "\n",
        "new_set = set(my_list)\n",
        "new_set"
      ]
    },
    {
      "cell_type": "markdown",
      "metadata": {
        "id": "tFNc1e20fyny"
      },
      "source": [
        "In Python sets, each element is unique, meaning there can be no duplicates in a set. When creating a set from a list, all duplicates are automatically removed during the conversion process."
      ]
    },
    {
      "cell_type": "markdown",
      "metadata": {
        "id": "SRMkGizS1UwY"
      },
      "source": [
        "19. Створіть дві множини. Продемонстуйте над ними операції: обʼєднання, різниці, пересічі та симетричної різниці. Використовуйте методи, що не змінюють множини, а створюють нові."
      ]
    },
    {
      "cell_type": "code",
      "execution_count": null,
      "metadata": {
        "id": "h0T-VuDnf3Ri"
      },
      "outputs": [
        {
          "name": "stdout",
          "output_type": "stream",
          "text": [
            "Об'єднання множин: {0, 1, 2, 3, 4, 5, 6, 7, 8, 9}\n",
            "Різниця множин set1 - set2: {0, 1, 2, 3}\n",
            "Пересічення множин: {4, 5}\n",
            "Симетрична різниця множин: {0, 1, 2, 3, 6, 7, 8, 9}\n"
          ]
        }
      ],
      "source": [
        "set1 = {0, 1, 2, 3, 4, 5}\n",
        "set2 = {4, 5, 6, 7, 8, 9}\n",
        "\n",
        "union_set = set1.union(set2)\n",
        "print(\"Union of sets:\", union_set)\n",
        "\n",
        "difference_set = set1.difference(set2)\n",
        "print(\"Substraction of set1 - set2:\", difference_set)\n",
        "\n",
        "intersection_set = set1.intersection(set2) # set1 & set2\n",
        "print(\"Intersection of sets:\", intersection_set)\n",
        "\n",
        "symmetric_difference_set = set1.symmetric_difference(set2)\n",
        "print(\"Symmetric set difference:\", symmetric_difference_set)"
      ]
    },
    {
      "cell_type": "markdown",
      "metadata": {
        "id": "kWc8gkzTx7Ea"
      },
      "source": [
        "# VII. Словники (Dictionary)."
      ]
    },
    {
      "cell_type": "markdown",
      "metadata": {
        "id": "i5FLwj-B2ybQ"
      },
      "source": [
        "20. Створіть пустий словник. До нього додайте чотири пари елементів такі, щоб їхні ключі були різних типів. Чи може список бути ключем? Чому?"
      ]
    },
    {
      "cell_type": "code",
      "execution_count": 32,
      "metadata": {
        "id": "hxgv3BzrgLAV"
      },
      "outputs": [
        {
          "data": {
            "text/plain": [
              "{1: 'one', 'two': 2, 3.0: 'three', ('four',): [4, 4, 4]}"
            ]
          },
          "execution_count": 32,
          "metadata": {},
          "output_type": "execute_result"
        }
      ],
      "source": [
        "empty_dict = {k: None for k in []}\n",
        "\n",
        "empty_dict[1] = 'one'\n",
        "empty_dict['two'] = 2\n",
        "empty_dict[3.0] = 'three'\n",
        "empty_dict[('four',)] = [4, 4, 4]\n",
        "empty_dict"
      ]
    },
    {
      "cell_type": "markdown",
      "metadata": {
        "id": "zwa7UVN-gR3m"
      },
      "source": [
        "No, a list cannot be a key in a dictionary in Python. Keys in a dictionary must be hashable and immutable objects. A list is a mutable data type and cannot be used as a key in a dictionary due to its ability to change. If you want to use a list as a key, you should first convert it to a tuple."
      ]
    },
    {
      "cell_type": "markdown",
      "metadata": {
        "id": "WM_pMlJsgoNf"
      },
      "source": [
        "21. Створіть словник, де значенням в одній з пар теж буде словник, який теж має вкладений словник. Виведіть на екран значення, що міститься в словнику, що знаходиться на найнижчому рівні ієрархії вкладеності (найбільш внутрішній)."
      ]
    },
    {
      "cell_type": "code",
      "execution_count": 7,
      "metadata": {
        "id": "60dlP7IHhAy4"
      },
      "outputs": [
        {
          "name": "stdout",
          "output_type": "stream",
          "text": [
            "The deepest value: deepest_value\n"
          ]
        }
      ],
      "source": [
        "nested_dict = {\n",
        "\t'outer_key': {\n",
        "\t\t'inner_key': {\n",
        "\t\t\t'deepest_key': 'deepest_value'\n",
        "\t\t}\n",
        "\t}\n",
        "}\n",
        "\n",
        "deepest_value = nested_dict['outer_key']['inner_key']['deepest_key']\n",
        "print(\"The deepest value:\", deepest_value)"
      ]
    },
    {
      "cell_type": "markdown",
      "metadata": {
        "id": "xOZP0hkx6cCr"
      },
      "source": [
        "# Вітаю! Ви велика(ий) молодець, що впоралась(вся). Похваліть себе та побалуйте чимось приємним. Я Вами пишаюся."
      ]
    }
  ],
  "metadata": {
    "colab": {
      "provenance": []
    },
    "kernelspec": {
      "display_name": "Python 3",
      "name": "python3"
    },
    "language_info": {
      "codemirror_mode": {
        "name": "ipython",
        "version": 3
      },
      "file_extension": ".py",
      "mimetype": "text/x-python",
      "name": "python",
      "nbconvert_exporter": "python",
      "pygments_lexer": "ipython3",
      "version": "3.12.0"
    }
  },
  "nbformat": 4,
  "nbformat_minor": 0
}
