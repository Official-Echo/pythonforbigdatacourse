{
  "cells": [
    {
      "cell_type": "markdown",
      "metadata": {
        "id": "5qV_sehzFCTp"
      },
      "source": [
        "# I. OOP"
      ]
    },
    {
      "cell_type": "markdown",
      "metadata": {
        "id": "tx_U_hOALyfg"
      },
      "source": [
        "1. (6б). Створіть клас Building, додайте три атрибути, один з яких має значення за замовчуванням та два методи на свій розсуд."
      ]
    },
    {
      "cell_type": "code",
      "execution_count": 13,
      "metadata": {
        "id": "-Vf895KaL88N"
      },
      "outputs": [],
      "source": [
        "class Building:\n",
        "    def __init__(self, name, floors, material=\"concrete\"):\n",
        "        self.name = name\n",
        "        self.floors = floors\n",
        "        self.material = material\n",
        "    \n",
        "    def describe(self) -> None:\n",
        "        print(f\"The building {self.name} has {self.floors} floors and is made of {self.material}.\")\n",
        "    \n",
        "    def renovate(self, new_material: str) -> None:\n",
        "        self.material = new_material\n",
        "        print(f\"The building {self.name} has been renovated with {self.material}.\")"
      ]
    },
    {
      "cell_type": "markdown",
      "metadata": {
        "id": "X_UlOMB0L93w"
      },
      "source": [
        "2. (2б). Створіть два обʼєкти цього класу, де один з обʼєктів створюється із дефолтним значенням атрибуту. На одному обʼєкті отримайте значення його атрибуту, а на іншому викличте один з його методів."
      ]
    },
    {
      "cell_type": "code",
      "execution_count": 14,
      "metadata": {
        "id": "7gBu0ESOMCpG"
      },
      "outputs": [
        {
          "name": "stdout",
          "output_type": "stream",
          "text": [
            "concrete\n",
            "The building 101 Tower has 20 floors and is made of glass.\n"
          ]
        }
      ],
      "source": [
        "building1 = Building(name=\"Gulliver Shopping Mall & Business Center\", floors=50)\n",
        "building2 = Building(name=\"101 Tower\", floors=20, material=\"glass\")\n",
        "\n",
        "print(building1.material)\n",
        "\n",
        "building2.describe()"
      ]
    },
    {
      "cell_type": "markdown",
      "metadata": {
        "id": "HoqSCZt1MHn5"
      },
      "source": [
        "3. (5б). Створіть клас, де атрибути мають різні рівні доступу. Спробуйте отримати їхні значення та опишіть результати."
      ]
    },
    {
      "cell_type": "code",
      "execution_count": null,
      "metadata": {
        "id": "r9b3vJxBMSPV"
      },
      "outputs": [],
      "source": [
        "class Foo:\n",
        "    def __init__(self):\n",
        "        self.public_attr = \"This is a public attribute\"\n",
        "        self._protected_attr = \"This is a protected attribute\"\n",
        "        self.__private_attr = \"This is a private attribute\"\n",
        "        \n",
        "    def get_private_attr(self):\n",
        "        return self.__private_attr\n",
        "\n",
        "obj = Foo()\n",
        "\n",
        "print(\"Public attribute:\", obj.public_attr)\n",
        "print(\"Protected attribute:\", obj._protected_attr)\n",
        "try:\n",
        "    print(\"Private attribute:\", obj.__private_attr)\n",
        "except AttributeError as e:\n",
        "    print(\"Error while trying to access private attribute:\", e)\n",
        "\n",
        "print(\"Private attribute through method:\", obj.get_private_attr())\n",
        "print(\"Private attribute through name mangling:\", obj._Foo__private_attr)\n",
        "\n",
        "# Results:\n",
        "#\n",
        "# Public attributes can be accessed without restrictions.\n",
        "# Protected attributes can also be accessed, but it is not recommended.\n",
        "# Direct attempts to access private attributes result in an AttributeError.\n",
        "# Private attributes can only be accessed if there is a getter for them.\n",
        "# Private attributes can also be accessed through name mangling in the form of _(class name)__(attribute),\n",
        "#   but this is not recommended and is !GENERALLY! considered bad practice."
      ]
    },
    {
      "cell_type": "markdown",
      "metadata": {
        "id": "5op2m2vgMSkZ"
      },
      "source": [
        "4. (7б). Як ви розумієте термін self? Для чого використовується метод __init __?"
      ]
    },
    {
      "cell_type": "markdown",
      "metadata": {
        "id": "DyiPqNRvMasx"
      },
      "source": [
        "```self``` is a reference to the current instance of the class in Python. It is used to access the attributes and methods of the object within the class. It is used using the same alias in Rust, Ruby and some other languages and generally sounds much better than analogous ```this``` in C++-like languages.\\\n",
        "The ```__init__()``` method is a special constructor method in Python. It is automatically called when a new object of the class is created and is used to initialize its attributes."
      ]
    },
    {
      "cell_type": "markdown",
      "metadata": {
        "id": "-6X8EGfjMd2y"
      },
      "source": [
        "5. (9б). Створіть клас 3D-фігура без атрибутів, з методом get_volume для отримання об'єму фігури, що повертає 0 та __add __, який приймає self та other в якості аргументів, а повертає суму об'ємів 3d-фігур self та other."
      ]
    },
    {
      "cell_type": "code",
      "execution_count": 4,
      "metadata": {
        "id": "4rvO_wYUMaEr"
      },
      "outputs": [],
      "source": [
        "class Figure3D:\n",
        "    def get_volume(self):\n",
        "        return 0\n",
        "    \n",
        "    def __add__(self, other):\n",
        "        return self.get_volume() + other.get_volume()"
      ]
    },
    {
      "cell_type": "markdown",
      "metadata": {
        "id": "SFcKnnv5Mo_z"
      },
      "source": [
        "6. (11б). Створіть 2 дочірніх класи від 3d-фігура: Циліндр та Куб, які мають атрибути, необхідні для розрахунку об'єму. Визначте метод get_volume в кожному з них так, щоби вони розраховували об'єм у залежності від формули для кожного типу фігури. Створіть обʼєкт класу Циліндр та обʼєкт класу Куб. Виконайте операцію суми за допомогою оператора + між ними, аби знайти сумарний об'єм."
      ]
    },
    {
      "cell_type": "code",
      "execution_count": 5,
      "metadata": {
        "id": "H3GVNr69Muf3"
      },
      "outputs": [
        {
          "name": "stdout",
          "output_type": "stream",
          "text": [
            "205.3716694115407\n"
          ]
        }
      ],
      "source": [
        "import math\n",
        "\n",
        "class Cylinder(Figure3D):\n",
        "    def __init__(self, radius, height):\n",
        "        self.radius = radius\n",
        "        self.height = height\n",
        "    \n",
        "    def get_volume(self):\n",
        "        return math.pi * self.radius ** 2 * self.height\n",
        "\n",
        "class Cube(Figure3D):\n",
        "    def __init__(self, side_length):\n",
        "        self.side_length = side_length\n",
        "    \n",
        "    def get_volume(self):\n",
        "        return self.side_length ** 3\n",
        "\n",
        "cylinder = Cylinder(radius=3, height=5)\n",
        "cube = Cube(side_length=4)\n",
        "\n",
        "total_volume = cylinder + cube\n",
        "print(total_volume)"
      ]
    },
    {
      "cell_type": "markdown",
      "metadata": {
        "id": "HCvR206YMvLK"
      },
      "source": [
        "7. (3б). Продемонструйте різницю між isinstance та issubclass."
      ]
    },
    {
      "cell_type": "code",
      "execution_count": 6,
      "metadata": {
        "id": "L_V1bBvDM0GN"
      },
      "outputs": [
        {
          "name": "stdout",
          "output_type": "stream",
          "text": [
            "isinstance():\n",
            "dog is an instance of Dog? True\n",
            "dog is an instance of Animal? True\n",
            "animal is an instance of Dog? False\n",
            "\n",
            "issubclass():\n",
            "Dog is a subclass of Animal? True\n",
            "Animal is a subclass of Dog? False\n",
            "Dog is a subclass of Dog? True\n"
          ]
        }
      ],
      "source": [
        "class Animal:\n",
        "    pass\n",
        "\n",
        "class Dog(Animal):\n",
        "    pass\n",
        "\n",
        "animal = Animal()\n",
        "dog = Dog()\n",
        "\n",
        "print(\"isinstance():\")\n",
        "print(\"dog is an instance of Dog?\", isinstance(dog, Dog))\n",
        "print(\"dog is an instance of Animal?\", isinstance(dog, Animal))\n",
        "print(\"animal is an instance of Dog?\", isinstance(animal, Dog))\n",
        "\n",
        "print(\"\\nissubclass():\")\n",
        "print(\"Dog is a subclass of Animal?\", issubclass(Dog, Animal))\n",
        "print(\"Animal is a subclass of Dog?\", issubclass(Animal, Dog))\n",
        "print(\"Dog is a subclass of Dog?\", issubclass(Dog, Dog))"
      ]
    },
    {
      "cell_type": "markdown",
      "metadata": {
        "id": "jjsaBZ-iM0Qq"
      },
      "source": [
        "8. (13б). Створіть клас EWallet з приватними атрибутами balance та id. Реалізуйте методи поповнення та зняття коштів, забезпечивши належну інкапсуляцію. Підказка: використовуйте декоратори property та setter."
      ]
    },
    {
      "cell_type": "code",
      "execution_count": 7,
      "metadata": {
        "id": "xCvZ7lh8M7YA"
      },
      "outputs": [],
      "source": [
        "class BalanceError(Exception):\n",
        "    pass\n",
        "\n",
        "class EWallet:\n",
        "    def __init__(self, wallet_id, initial_balance=0):\n",
        "        self.__id = wallet_id\n",
        "        self.__balance = initial_balance\n",
        "\n",
        "    @property\n",
        "    def id(self):\n",
        "        return self.__id\n",
        "\n",
        "    @property\n",
        "    def balance(self):\n",
        "        return self.__balance\n",
        "\n",
        "    @balance.setter\n",
        "    def balance(self, value):\n",
        "        if value < 0:\n",
        "            raise BalanceError(\"Balance cannot be negative\")\n",
        "        self.__balance = value\n",
        "\n",
        "    def deposit(self, amount):\n",
        "        if amount <= 0:\n",
        "            raise BalanceError(\"Deposit amount must be greater than zero\")\n",
        "        self.balance += amount\n",
        "        return f\"Wallet credited with {amount}. New balance: {self.balance}\"\n",
        "\n",
        "    def withdraw(self, amount):\n",
        "        if amount <= 0:\n",
        "            raise BalanceError(\"Withdrawal amount must be greater than zero\")\n",
        "        if amount > self.balance:\n",
        "            raise BalanceError(\"Insufficient funds\")\n",
        "        self.balance -= amount\n",
        "        return f\"Wallet debited by {amount}. New balance: {self.balance}\""
      ]
    },
    {
      "cell_type": "markdown",
      "metadata": {
        "id": "tIzL2SJTM8ft"
      },
      "source": [
        "9. (11б). Створіть клас ShoppingCart, який містить список об'єктів типу Item. Реалізуйте методи для додавання айтемів, їх видалення та відображення списку айтемів."
      ]
    },
    {
      "cell_type": "code",
      "execution_count": null,
      "metadata": {
        "id": "HWxfJKLtNAUZ"
      },
      "outputs": [
        {
          "name": "stdout",
          "output_type": "stream",
          "text": [
            "Item: Laptop, Price: 1000\n",
            "Item: Smartphone, Price: 500\n",
            "Item: Smartphone, Price: 500\n"
          ]
        }
      ],
      "source": [
        "class Item:\n",
        "    def __init__(self, name, price):\n",
        "        self.name = name\n",
        "        self.price = price\n",
        "\n",
        "class ShoppingCart:\n",
        "    def __init__(self):\n",
        "        self.items = []\n",
        "\n",
        "    def add_item(self, item):\n",
        "        self.items.append(item)\n",
        "\n",
        "    def remove_item(self, item):\n",
        "        self.items.remove(item)\n",
        "\n",
        "    def display_items(self):\n",
        "        for item in self.items:\n",
        "            print(f\"Item: {item.name}, Price: {item.price}\")\n",
        "\n",
        "item1 = Item(name=\"Laptop\", price=1000)\n",
        "item2 = Item(name=\"Smartphone\", price=500)\n",
        "\n",
        "cart = ShoppingCart()\n",
        "cart.add_item(item1)\n",
        "cart.add_item(item2)\n",
        "cart.display_items()\n",
        "\n",
        "cart.remove_item(item1)\n",
        "cart.display_items()"
      ]
    },
    {
      "cell_type": "markdown",
      "metadata": {
        "id": "lmV8pAwwNIqu"
      },
      "source": [
        "10. (13б). Створіть клас Vehicle з атрибутами brand (manufacturer) та production_age. Створіть ще один клас Engine з такими атрибутами, як type (ex. petrol) та size (volume, litres). Створіть клас Car, який успадковує обидва класи Vehicle та Engine. Продемонструйте використання множинної спадковості, створивши обʼєкт класу Car та отримавши mro для цього класу."
      ]
    },
    {
      "cell_type": "code",
      "execution_count": 10,
      "metadata": {
        "id": "R49grKlWNPeN"
      },
      "outputs": [
        {
          "name": "stdout",
          "output_type": "stream",
          "text": [
            "Vil'ha\n",
            "5\n",
            "petrol\n",
            "2.5\n",
            "[<class '__main__.Car'>, <class '__main__.Vehicle'>, <class '__main__.Engine'>, <class 'object'>]\n"
          ]
        }
      ],
      "source": [
        "class Vehicle:\n",
        "    def __init__(self, brand, production_age):\n",
        "        self.brand = brand\n",
        "        self.production_age = production_age\n",
        "\n",
        "class Engine:\n",
        "    def __init__(self, engine_type, size):\n",
        "        self.engine_type = engine_type\n",
        "        self.size = size\n",
        "\n",
        "class Car(Vehicle, Engine):\n",
        "    def __init__(self, brand, production_age, engine_type, size):\n",
        "        Vehicle.__init__(self, brand, production_age)\n",
        "        Engine.__init__(self, engine_type, size)\n",
        "\n",
        "car = Car(brand=\"Vil'ha\", production_age=5, engine_type=\"petrol\", size=2.5)\n",
        "print(car.brand)\n",
        "print(car.production_age)\n",
        "print(car.engine_type)\n",
        "print(car.size)\n",
        "\n",
        "mro = Car.mro()\n",
        "print(mro)"
      ]
    },
    {
      "cell_type": "markdown",
      "metadata": {
        "id": "dIJyUiNBFG8G"
      },
      "source": [
        "# II. Iterator"
      ]
    },
    {
      "cell_type": "markdown",
      "metadata": {
        "id": "13vsm0NyKIzL"
      },
      "source": [
        "11. (4б). Визначте рядок(str) з 4ма різними за значенням символами. Створіть ітератор на основі цього рядка. Викличте 5 разів функцію next на ітераторі, 4ри перших з них огорніть у ф-цію print()."
      ]
    },
    {
      "cell_type": "code",
      "execution_count": 11,
      "metadata": {
        "id": "81ntabAkKuz-"
      },
      "outputs": [
        {
          "name": "stdout",
          "output_type": "stream",
          "text": [
            "a\n",
            "b\n",
            "c\n",
            "d\n"
          ]
        },
        {
          "ename": "StopIteration",
          "evalue": "",
          "output_type": "error",
          "traceback": [
            "\u001b[1;31m---------------------------------------------------------------------------\u001b[0m",
            "\u001b[1;31mStopIteration\u001b[0m                             Traceback (most recent call last)",
            "Cell \u001b[1;32mIn[11], line 7\u001b[0m\n\u001b[0;32m      4\u001b[0m \u001b[38;5;28;01mfor\u001b[39;00m _ \u001b[38;5;129;01min\u001b[39;00m \u001b[38;5;28mrange\u001b[39m(\u001b[38;5;241m4\u001b[39m):\n\u001b[0;32m      5\u001b[0m     \u001b[38;5;28mprint\u001b[39m(\u001b[38;5;28mnext\u001b[39m(my_iterator))\n\u001b[1;32m----> 7\u001b[0m \u001b[38;5;28;43mnext\u001b[39;49m\u001b[43m(\u001b[49m\u001b[43mmy_iterator\u001b[49m\u001b[43m)\u001b[49m\n",
            "\u001b[1;31mStopIteration\u001b[0m: "
          ]
        }
      ],
      "source": [
        "my_string: str = \"abcd\"\n",
        "my_iterator = iter(my_string)\n",
        "\n",
        "for _ in range(4):\n",
        "    print(next(my_iterator))\n",
        "\n",
        "next(my_iterator)"
      ]
    },
    {
      "cell_type": "markdown",
      "metadata": {
        "id": "aekWHGXOLRsO"
      },
      "source": [
        "А що якщо викликати цю ж функцію на рядку?"
      ]
    },
    {
      "cell_type": "markdown",
      "metadata": {
        "id": "mxATGsErLV1i"
      },
      "source": [
        "If you call the `next` function on a string, you'll get a `TypeError: 'str' object is not an iterator`. This is because a string is an iterable object, but not an iterator. To get an iterator from a string, you need to call the `iter` function on the string, as I've done it in the code above."
      ]
    },
    {
      "cell_type": "markdown",
      "metadata": {
        "id": "XwtMEopwJ4pH"
      },
      "source": [
        " 12. (5б). Опишіть своїми словами в одному реченні, як ви розумієте різницю між ітерабельними обʼєктами та ітераторами (можна на прикладі)."
      ]
    },
    {
      "cell_type": "markdown",
      "metadata": {
        "id": "-sHrODc3KFn8"
      },
      "source": [
        "Iterables are objects that can be iterated over (like lists, strings, or dictionaries) while iterators are objects that keep track of the current position in the iteration and produce the next value when requested with `next()` - for example, a string is an iterable that needs to be converted to an iterator with `iter()` before we can call `next()` on it."
      ]
    },
    {
      "cell_type": "markdown",
      "metadata": {
        "id": "E9qJWmNbK8Gl"
      },
      "source": [
        "13. (11б). Створіть клас, що має визначений Iterator Protocol та при кожному виклику next повертає назву дня тижня, поки вони не вичерпаються. Зверніть увагу, що порядок має значення."
      ]
    },
    {
      "cell_type": "code",
      "execution_count": 12,
      "metadata": {
        "id": "cqx-g_RsLo6I"
      },
      "outputs": [
        {
          "name": "stdout",
          "output_type": "stream",
          "text": [
            "a b c d e f g h i j k l m n o p q r s t u v w x y z "
          ]
        }
      ],
      "source": [
        "class EnglishAlphabetIterator:\n",
        "    def __init__(self):\n",
        "        self.current_letter = ord('a')\n",
        "\n",
        "    def __iter__(self):\n",
        "        return self\n",
        "\n",
        "    def __next__(self):\n",
        "        if self.current_letter > ord('z'):\n",
        "            raise StopIteration\n",
        "        letter = chr(self.current_letter)\n",
        "        self.current_letter += 1\n",
        "        return letter\n",
        "    \n",
        "\n",
        "class EnglishAlphabet:\n",
        "    def __iter__(self):\n",
        "        return EnglishAlphabetIterator()\n",
        "    \n",
        "english_alphabet = EnglishAlphabet()\n",
        "for letter in english_alphabet:\n",
        "    print(letter, end=\" \")"
      ]
    },
    {
      "cell_type": "markdown",
      "metadata": {
        "id": "Z3E3S_s1Fv7-"
      },
      "source": [
        "# Вітаю! Ви велика(ий) молодець, що впоралась(вся). Похваліть себе та побалуйте чимось приємним. Я Вами пишаюся."
      ]
    }
  ],
  "metadata": {
    "colab": {
      "provenance": []
    },
    "kernelspec": {
      "display_name": "Python 3",
      "name": "python3"
    },
    "language_info": {
      "codemirror_mode": {
        "name": "ipython",
        "version": 3
      },
      "file_extension": ".py",
      "mimetype": "text/x-python",
      "name": "python",
      "nbconvert_exporter": "python",
      "pygments_lexer": "ipython3",
      "version": "3.12.0"
    }
  },
  "nbformat": 4,
  "nbformat_minor": 0
}
